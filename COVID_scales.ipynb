{
 "cells": [
  {
   "cell_type": "code",
   "execution_count": 1,
   "metadata": {},
   "outputs": [],
   "source": [
    "import pandas as pd\n",
    "import numpy as np\n",
    "%matplotlib inline\n",
    "import matplotlib as plt\n",
    "from matplotlib import pyplot\n",
    "import pingouin as pg\n",
    "import seaborn as sns"
   ]
  },
  {
   "cell_type": "code",
   "execution_count": 2,
   "metadata": {},
   "outputs": [],
   "source": [
    "df = pd.read_csv('vhv_11_15.csv')"
   ]
  },
  {
   "cell_type": "code",
   "execution_count": 3,
   "metadata": {},
   "outputs": [
    {
     "data": {
      "text/plain": [
       "agree                137\n",
       "strongly agree       116\n",
       "strongly disagree    112\n",
       "somewhat agree        95\n",
       "disagree              68\n",
       "somewhat disagree     46\n",
       "Name: threat1, dtype: int64"
      ]
     },
     "execution_count": 3,
     "metadata": {},
     "output_type": "execute_result"
    }
   ],
   "source": [
    "df['threat1'].value_counts()"
   ]
  },
  {
   "cell_type": "code",
   "execution_count": 4,
   "metadata": {},
   "outputs": [
    {
     "data": {
      "text/plain": [
       "strongly agree       190\n",
       "agree                167\n",
       "somewhat agree       127\n",
       "somewhat disagree     36\n",
       "strongly disagree     35\n",
       "disagree              16\n",
       "Name: threat2, dtype: int64"
      ]
     },
     "execution_count": 4,
     "metadata": {},
     "output_type": "execute_result"
    }
   ],
   "source": [
    "df['threat2'].value_counts()"
   ]
  },
  {
   "cell_type": "code",
   "execution_count": 5,
   "metadata": {},
   "outputs": [
    {
     "data": {
      "text/plain": [
       "disagree             184\n",
       "strongly disagree    147\n",
       "somewhat disagree    108\n",
       "somewhat agree        67\n",
       "strongly agree        39\n",
       "agree                 29\n",
       "Name: threat3_r, dtype: int64"
      ]
     },
     "execution_count": 5,
     "metadata": {},
     "output_type": "execute_result"
    }
   ],
   "source": [
    "df['threat3_r'].value_counts()"
   ]
  },
  {
   "cell_type": "code",
   "execution_count": null,
   "metadata": {},
   "outputs": [],
   "source": []
  },
  {
   "cell_type": "code",
   "execution_count": 6,
   "metadata": {},
   "outputs": [
    {
     "data": {
      "text/plain": [
       "disagree             195\n",
       "strongly disagree    159\n",
       "somewhat disagree     97\n",
       "somewhat agree        54\n",
       "strongly agree        39\n",
       "agree                 28\n",
       "Name: threat4_r, dtype: int64"
      ]
     },
     "execution_count": 6,
     "metadata": {},
     "output_type": "execute_result"
    }
   ],
   "source": [
    "df['threat4_r'].value_counts()"
   ]
  },
  {
   "cell_type": "code",
   "execution_count": 7,
   "metadata": {},
   "outputs": [
    {
     "data": {
      "text/plain": [
       "strongly agree       265\n",
       "strongly disagree     85\n",
       "agree                 73\n",
       "disagree              59\n",
       "somewhat disagree     46\n",
       "somewhat agree        45\n",
       "Name: threat5, dtype: int64"
      ]
     },
     "execution_count": 7,
     "metadata": {},
     "output_type": "execute_result"
    }
   ],
   "source": [
    "df['threat5'].value_counts()"
   ]
  },
  {
   "cell_type": "code",
   "execution_count": 8,
   "metadata": {},
   "outputs": [
    {
     "data": {
      "text/plain": [
       "strongly agree       148\n",
       "strongly disagree    120\n",
       "agree                115\n",
       "somewhat agree        76\n",
       "disagree              69\n",
       "somewhat disagree     47\n",
       "Name: threat6, dtype: int64"
      ]
     },
     "execution_count": 8,
     "metadata": {},
     "output_type": "execute_result"
    }
   ],
   "source": [
    "df['threat6'].value_counts()"
   ]
  },
  {
   "cell_type": "code",
   "execution_count": 14,
   "metadata": {},
   "outputs": [],
   "source": [
    "df['threat1'].replace(['strongly disagree','disagree','somewhat disagree','somewhat agree','agree','strongly agree'],[1,2,3,4,5,6], inplace=True)\n",
    "df['threat2'].replace(['strongly disagree','disagree','somewhat disagree','somewhat agree','agree','strongly agree'],[1,2,3,4,5,6], inplace=True)\n",
    "df['threat3'] = df['threat3_r'].replace(['strongly disagree','disagree','somewhat disagree','somewhat agree','agree','strongly agree'],[1,2,3,4,5,6])\n",
    "df['threat4'] = df['threat4_r'].replace(['strongly disagree','disagree','somewhat disagree','somewhat agree','agree','strongly agree'],[1,2,3,4,5,6])\n",
    "df['threat5'].replace(['strongly disagree','disagree','somewhat disagree','somewhat agree','agree','strongly agree'],[1,2,3,4,5,6], inplace=True)\n",
    "df['threat6'].replace(['strongly disagree','disagree','somewhat disagree','somewhat agree','agree','strongly agree'],[1,2,3,4,5,6], inplace=True)\n",
    "\n",
    "# df['threat3'] = df['threat3_r'].replace([1,2,3,4,5,6],[6,5,4,3,2,1]) #(missing=.)\n",
    "# df['threat4'] = df['threat4_r'].replace([1,2,3,4,5,6],[6,5,4,3,2,1]) #(missing=.)\n",
    "df['COVIDthreat'] = (df['threat1'] + df['threat2'] + df['threat3'] + df['threat4'] + df['threat5'] + df['threat6'])/6\n"
   ]
  },
  {
   "cell_type": "code",
   "execution_count": 15,
   "metadata": {},
   "outputs": [
    {
     "data": {
      "text/plain": [
       "count    564.000000\n",
       "mean       3.591017\n",
       "std        0.859299\n",
       "min        1.000000\n",
       "25%        2.833333\n",
       "50%        3.833333\n",
       "75%        4.333333\n",
       "max        6.000000\n",
       "Name: COVIDthreat, dtype: float64"
      ]
     },
     "execution_count": 15,
     "metadata": {},
     "output_type": "execute_result"
    }
   ],
   "source": [
    "df['COVIDthreat'].describe()"
   ]
  },
  {
   "cell_type": "code",
   "execution_count": 16,
   "metadata": {},
   "outputs": [
    {
     "data": {
      "text/plain": [
       "'The skewness is -0.5234212240686306 and the kurtosis is -0.4999346891530241.'"
      ]
     },
     "execution_count": 16,
     "metadata": {},
     "output_type": "execute_result"
    }
   ],
   "source": [
    "def assess_var(var):\n",
    "    skew = var.skew()\n",
    "    kurt = var.kurtosis()\n",
    "    return f'The skewness is {skew} and the kurtosis is {kurt}.'\n",
    "assess_var(df['COVIDthreat']) "
   ]
  },
  {
   "cell_type": "code",
   "execution_count": 17,
   "metadata": {},
   "outputs": [
    {
     "data": {
      "image/png": "[encoded data removed]",
      "text/plain": [
       "<Figure size 1000x1000 with 1 Axes>"
      ]
     },
     "metadata": {},
     "output_type": "display_data"
    }
   ],
   "source": [
    "df['COVIDthreat'].plot(kind='hist', bins=50, figsize=(10,10))\n",
    "pyplot.title('Perception of COVID as a threat: frequencies')\n",
    "pyplot.xlabel('Perception of COVID as a threat')\n",
    "pyplot.ylabel('Frequencies')\n",
    "pyplot.show()"
   ]
  },
  {
   "cell_type": "code",
   "execution_count": 18,
   "metadata": {},
   "outputs": [
    {
     "data": {
      "text/plain": [
       "<AxesSubplot: >"
      ]
     },
     "execution_count": 18,
     "metadata": {},
     "output_type": "execute_result"
    },
    {
     "data": {
      "image/png": "[encoded data removed]",
      "text/plain": [
       "<Figure size 640x480 with 1 Axes>"
      ]
     },
     "metadata": {},
     "output_type": "display_data"
    }
   ],
   "source": [
    "sns.boxplot(data=df['COVIDthreat'])"
   ]
  },
  {
   "cell_type": "code",
   "execution_count": 9,
   "metadata": {},
   "outputs": [
    {
     "data": {
      "text/plain": [
       "somewhat       186\n",
       "very much      171\n",
       "very little    120\n",
       "not at all      93\n",
       "Name: prev1, dtype: int64"
      ]
     },
     "execution_count": 9,
     "metadata": {},
     "output_type": "execute_result"
    }
   ],
   "source": [
    "df['prev1'].value_counts()"
   ]
  },
  {
   "cell_type": "code",
   "execution_count": 10,
   "metadata": {},
   "outputs": [
    {
     "data": {
      "text/plain": [
       "somewhat       246\n",
       "very much      167\n",
       "very little     91\n",
       "not at all      68\n",
       "Name: prev2, dtype: int64"
      ]
     },
     "execution_count": 10,
     "metadata": {},
     "output_type": "execute_result"
    }
   ],
   "source": [
    "df['prev2'].value_counts()"
   ]
  },
  {
   "cell_type": "code",
   "execution_count": 11,
   "metadata": {},
   "outputs": [
    {
     "data": {
      "text/plain": [
       "very much      452\n",
       "somewhat        89\n",
       "very little     15\n",
       "not at all      14\n",
       "Name: prev3, dtype: int64"
      ]
     },
     "execution_count": 11,
     "metadata": {},
     "output_type": "execute_result"
    }
   ],
   "source": [
    "df['prev3'].value_counts()"
   ]
  },
  {
   "cell_type": "code",
   "execution_count": 19,
   "metadata": {},
   "outputs": [
    {
     "data": {
      "text/plain": [
       "count    544.000000\n",
       "mean       3.119987\n",
       "std        0.728155\n",
       "min        1.000000\n",
       "25%        2.636364\n",
       "50%        3.363636\n",
       "75%        3.727273\n",
       "max        4.000000\n",
       "Name: prevent_behav, dtype: float64"
      ]
     },
     "execution_count": 19,
     "metadata": {},
     "output_type": "execute_result"
    }
   ],
   "source": [
    "df['prev1'].replace(['not at all','very little','somewhat','very much'],[1,2,3,4], inplace=True)\n",
    "df['prev2'].replace(['not at all','very little','somewhat','very much'],[1,2,3,4], inplace=True)\n",
    "df['prev3'].replace(['not at all','very little','somewhat','very much'],[1,2,3,4], inplace=True)\n",
    "df['prev4'].replace(['not at all','very little','somewhat','very much'],[1,2,3,4], inplace=True)\n",
    "df['prev5'].replace(['not at all','very little','somewhat','very much'],[1,2,3,4], inplace=True)\n",
    "df['prev6'].replace(['not at all','very little','somewhat','very much'],[1,2,3,4], inplace=True)\n",
    "df['prev7'].replace(['not at all','very little','somewhat','very much'],[1,2,3,4], inplace=True)\n",
    "df['prev8'].replace(['not at all','very little','somewhat','very much'],[1,2,3,4], inplace=True)\n",
    "df['prev9'].replace(['not at all','very little','somewhat','very much'],[1,2,3,4], inplace=True)\n",
    "df['prev10'].replace(['not at all','very little','somewhat','very much'],[1,2,3,4], inplace=True)\n",
    "df['prev11'].replace(['not at all','very little','somewhat','very much'],[1,2,3,4], inplace=True)\n",
    "df['prevent_behav'] = (df['prev1'] + df['prev2'] + df['prev3'] + df['prev4'] + df['prev5'] + df['prev6'] + df['prev7'] + df['prev8'] + df['prev9'] + df['prev10'] + df['prev11'])/11\n",
    "df['prevent_behav'].describe()"
   ]
  },
  {
   "cell_type": "code",
   "execution_count": 20,
   "metadata": {},
   "outputs": [
    {
     "data": {
      "text/plain": [
       "'The skewness is -0.804061065558281 and the kurtosis is -0.26374327824965205.'"
      ]
     },
     "execution_count": 20,
     "metadata": {},
     "output_type": "execute_result"
    }
   ],
   "source": [
    "assess_var(df['prevent_behav'])"
   ]
  },
  {
   "cell_type": "code",
   "execution_count": 21,
   "metadata": {},
   "outputs": [
    {
     "data": {
      "image/png": "[encoded data removed]",
      "text/plain": [
       "<Figure size 640x480 with 1 Axes>"
      ]
     },
     "metadata": {},
     "output_type": "display_data"
    }
   ],
   "source": [
    "df['prevent_behav'].plot(kind='hist', bins=40)\n",
    "pyplot.title('Preventive Behaviors: frequencies')\n",
    "pyplot.xlabel('Level of preventive behavior')\n",
    "pyplot.ylabel('Frequencies')\n",
    "pyplot.show()\n"
   ]
  },
  {
   "cell_type": "code",
   "execution_count": 22,
   "metadata": {},
   "outputs": [
    {
     "data": {
      "text/plain": [
       "<AxesSubplot: >"
      ]
     },
     "execution_count": 22,
     "metadata": {},
     "output_type": "execute_result"
    },
    {
     "data": {
      "image/png": "[encoded data removed]",
      "text/plain": [
       "<Figure size 640x480 with 1 Axes>"
      ]
     },
     "metadata": {},
     "output_type": "display_data"
    }
   ],
   "source": [
    "sns.boxplot(data=df['prevent_behav'])"
   ]
  },
  {
   "cell_type": "code",
   "execution_count": null,
   "metadata": {},
   "outputs": [],
   "source": []
  },
  {
   "cell_type": "code",
   "execution_count": null,
   "metadata": {},
   "outputs": [],
   "source": []
  }
 ],
 "metadata": {
  "kernelspec": {
   "display_name": "Python 3",
   "language": "python",
   "name": "python3"
  },
  "language_info": {
   "codemirror_mode": {
    "name": "ipython",
    "version": 3
   },
   "file_extension": ".py",
   "mimetype": "text/x-python",
   "name": "python",
   "nbconvert_exporter": "python",
   "pygments_lexer": "ipython3",
   "version": "3.11.0"
  },
  "orig_nbformat": 4,
  "vscode": {
   "interpreter": {
    "hash": "aefd69111f9c76c9ecd068af2a7d377a958ad2aaf2a9c23a14839e8171832a79"
   }
  }
 },
 "nbformat": 4,
 "nbformat_minor": 2
}
