{
 "cells": [
  {
   "cell_type": "code",
   "execution_count": 1,
   "metadata": {},
   "outputs": [],
   "source": [
    "import pandas as pd\n",
    "import numpy as np\n",
    "%matplotlib inline\n",
    "import matplotlib as plt\n",
    "from matplotlib import pyplot\n",
    "import pingouin as pg\n",
    "import seaborn as sns"
   ]
  },
  {
   "cell_type": "code",
   "execution_count": 2,
   "metadata": {},
   "outputs": [],
   "source": [
    "df = pd.read_csv('vhv_11_15.csv')"
   ]
  },
  {
   "cell_type": "code",
   "execution_count": 3,
   "metadata": {},
   "outputs": [
    {
     "data": {
      "text/plain": [
       "count    570.000000\n",
       "mean       2.007018\n",
       "std        1.292109\n",
       "min        1.000000\n",
       "25%        1.000000\n",
       "50%        1.000000\n",
       "75%        3.000000\n",
       "max        5.000000\n",
       "Name: vax1, dtype: float64"
      ]
     },
     "execution_count": 3,
     "metadata": {},
     "output_type": "execute_result"
    }
   ],
   "source": [
    "df['vax1'].describe()"
   ]
  },
  {
   "cell_type": "code",
   "execution_count": 4,
   "metadata": {},
   "outputs": [
    {
     "data": {
      "text/plain": [
       "1.0    293\n",
       "2.0    113\n",
       "3.0     78\n",
       "5.0     47\n",
       "4.0     39\n",
       "Name: vax1, dtype: int64"
      ]
     },
     "execution_count": 4,
     "metadata": {},
     "output_type": "execute_result"
    }
   ],
   "source": [
    "df['vax1'].value_counts()"
   ]
  },
  {
   "cell_type": "code",
   "execution_count": 5,
   "metadata": {},
   "outputs": [
    {
     "data": {
      "text/plain": [
       "count                   570\n",
       "unique                    5\n",
       "top       strongly disagree\n",
       "freq                    268\n",
       "Name: vax2, dtype: object"
      ]
     },
     "execution_count": 5,
     "metadata": {},
     "output_type": "execute_result"
    }
   ],
   "source": [
    "df['vax2'].describe()"
   ]
  },
  {
   "cell_type": "code",
   "execution_count": 6,
   "metadata": {},
   "outputs": [
    {
     "data": {
      "text/plain": [
       "strongly disagree             268\n",
       "neither agree nor disagree    129\n",
       "disagree                       97\n",
       "agree                          42\n",
       "strongly agree                 34\n",
       "Name: vax2, dtype: int64"
      ]
     },
     "execution_count": 6,
     "metadata": {},
     "output_type": "execute_result"
    }
   ],
   "source": [
    "df['vax2'].value_counts()"
   ]
  },
  {
   "cell_type": "code",
   "execution_count": 16,
   "metadata": {},
   "outputs": [
    {
     "data": {
      "text/plain": [
       "1.0    268\n",
       "3.0    129\n",
       "2.0     97\n",
       "4.0     42\n",
       "5.0     34\n",
       "Name: vax2, dtype: int64"
      ]
     },
     "execution_count": 16,
     "metadata": {},
     "output_type": "execute_result"
    }
   ],
   "source": [
    "df['vax2'].replace(['strongly disagree','disagree','neither agree nor disagree','agree','strongly agree'],[1,2,3,4,5], inplace=True)\n",
    "df['vax2'].value_counts()"
   ]
  },
  {
   "cell_type": "code",
   "execution_count": 7,
   "metadata": {},
   "outputs": [
    {
     "data": {
      "text/plain": [
       "count                   573\n",
       "unique                    5\n",
       "top       strongly disagree\n",
       "freq                    231\n",
       "Name: vax3, dtype: object"
      ]
     },
     "execution_count": 7,
     "metadata": {},
     "output_type": "execute_result"
    }
   ],
   "source": [
    "df['vax3'].describe()"
   ]
  },
  {
   "cell_type": "code",
   "execution_count": 8,
   "metadata": {},
   "outputs": [
    {
     "data": {
      "text/plain": [
       "strongly disagree             231\n",
       "disagree                      134\n",
       "neither agree nor disagree     88\n",
       "strongly agree                 63\n",
       "agree                          57\n",
       "Name: vax3, dtype: int64"
      ]
     },
     "execution_count": 8,
     "metadata": {},
     "output_type": "execute_result"
    }
   ],
   "source": [
    "df['vax3'].value_counts()"
   ]
  },
  {
   "cell_type": "code",
   "execution_count": 17,
   "metadata": {},
   "outputs": [
    {
     "data": {
      "text/plain": [
       "1.0    231\n",
       "2.0    134\n",
       "3.0     88\n",
       "5.0     63\n",
       "4.0     57\n",
       "Name: vax3, dtype: int64"
      ]
     },
     "execution_count": 17,
     "metadata": {},
     "output_type": "execute_result"
    }
   ],
   "source": [
    "df['vax3'].replace(['strongly disagree','disagree','neither agree nor disagree','agree','strongly agree'],[1,2,3,4,5], inplace=True)\n",
    "df['vax3'].value_counts()"
   ]
  },
  {
   "cell_type": "code",
   "execution_count": 9,
   "metadata": {},
   "outputs": [
    {
     "data": {
      "text/plain": [
       "1.0    250\n",
       "2.0    160\n",
       "3.0    107\n",
       "4.0     30\n",
       "5.0     25\n",
       "Name: vax4, dtype: int64"
      ]
     },
     "execution_count": 9,
     "metadata": {},
     "output_type": "execute_result"
    }
   ],
   "source": [
    "df['vax4'].value_counts()"
   ]
  },
  {
   "cell_type": "code",
   "execution_count": 10,
   "metadata": {},
   "outputs": [
    {
     "data": {
      "text/plain": [
       "strongly disagree             299\n",
       "disagree                       92\n",
       "neither agree nor disagree     88\n",
       "agree                          48\n",
       "strongly agree                 47\n",
       "Name: vax5, dtype: int64"
      ]
     },
     "execution_count": 10,
     "metadata": {},
     "output_type": "execute_result"
    }
   ],
   "source": [
    "df['vax5'].value_counts()"
   ]
  },
  {
   "cell_type": "code",
   "execution_count": 18,
   "metadata": {},
   "outputs": [
    {
     "data": {
      "text/plain": [
       "1.0    299\n",
       "2.0     92\n",
       "3.0     88\n",
       "4.0     48\n",
       "5.0     47\n",
       "Name: vax5, dtype: int64"
      ]
     },
     "execution_count": 18,
     "metadata": {},
     "output_type": "execute_result"
    }
   ],
   "source": [
    "df['vax5'].replace(['strongly disagree','disagree','neither agree nor disagree','agree','strongly agree'],[1,2,3,4,5], inplace=True)\n",
    "df['vax5'].value_counts()"
   ]
  },
  {
   "cell_type": "code",
   "execution_count": 11,
   "metadata": {},
   "outputs": [
    {
     "data": {
      "text/plain": [
       "2.0    172\n",
       "1.0    131\n",
       "5.0    109\n",
       "3.0     86\n",
       "4.0     75\n",
       "Name: vax6, dtype: int64"
      ]
     },
     "execution_count": 11,
     "metadata": {},
     "output_type": "execute_result"
    }
   ],
   "source": [
    "df['vax6'].value_counts()"
   ]
  },
  {
   "cell_type": "code",
   "execution_count": 12,
   "metadata": {},
   "outputs": [
    {
     "data": {
      "text/plain": [
       "strongly disagree             154\n",
       "disagree                      150\n",
       "neither agree nor disagree    116\n",
       "agree                         106\n",
       "strongly agree                 47\n",
       "Name: vax7, dtype: int64"
      ]
     },
     "execution_count": 12,
     "metadata": {},
     "output_type": "execute_result"
    }
   ],
   "source": [
    "df['vax7'].value_counts()"
   ]
  },
  {
   "cell_type": "code",
   "execution_count": 19,
   "metadata": {},
   "outputs": [
    {
     "data": {
      "text/plain": [
       "1.0    154\n",
       "2.0    150\n",
       "3.0    116\n",
       "4.0    106\n",
       "5.0     47\n",
       "Name: vax7, dtype: int64"
      ]
     },
     "execution_count": 19,
     "metadata": {},
     "output_type": "execute_result"
    }
   ],
   "source": [
    "df['vax7'].replace(['strongly disagree','disagree','neither agree nor disagree','agree','strongly agree'],[1,2,3,4,5], inplace=True)\n",
    "df['vax7'].value_counts()"
   ]
  },
  {
   "cell_type": "code",
   "execution_count": 13,
   "metadata": {},
   "outputs": [
    {
     "data": {
      "text/plain": [
       "strongly disagree             142\n",
       "strongly agree                114\n",
       "disagree                      113\n",
       "neither agree nor disagree    109\n",
       "agree                          95\n",
       "Name: vax8, dtype: int64"
      ]
     },
     "execution_count": 13,
     "metadata": {},
     "output_type": "execute_result"
    }
   ],
   "source": [
    "df['vax8'].value_counts()"
   ]
  },
  {
   "cell_type": "code",
   "execution_count": 20,
   "metadata": {},
   "outputs": [
    {
     "data": {
      "text/plain": [
       "1.0    142\n",
       "5.0    114\n",
       "2.0    113\n",
       "3.0    109\n",
       "4.0     95\n",
       "Name: vax8, dtype: int64"
      ]
     },
     "execution_count": 20,
     "metadata": {},
     "output_type": "execute_result"
    }
   ],
   "source": [
    "df['vax8'].replace(['strongly disagree','disagree','neither agree nor disagree','agree','strongly agree'],[1,2,3,4,5], inplace=True)\n",
    "df['vax8'].value_counts()"
   ]
  },
  {
   "cell_type": "code",
   "execution_count": 14,
   "metadata": {},
   "outputs": [
    {
     "data": {
      "text/plain": [
       "strongly agree                138\n",
       "disagree                      129\n",
       "strongly disagree             121\n",
       "agree                         104\n",
       "neither agree nor disagree     78\n",
       "Name: vax9, dtype: int64"
      ]
     },
     "execution_count": 14,
     "metadata": {},
     "output_type": "execute_result"
    }
   ],
   "source": [
    "df['vax9'].value_counts()"
   ]
  },
  {
   "cell_type": "code",
   "execution_count": 21,
   "metadata": {},
   "outputs": [
    {
     "data": {
      "text/plain": [
       "5.0    138\n",
       "2.0    129\n",
       "1.0    121\n",
       "4.0    104\n",
       "3.0     78\n",
       "Name: vax9, dtype: int64"
      ]
     },
     "execution_count": 21,
     "metadata": {},
     "output_type": "execute_result"
    }
   ],
   "source": [
    "df['vax9'].replace(['strongly disagree','disagree','neither agree nor disagree','agree','strongly agree'],[1,2,3,4,5], inplace=True)\n",
    "df['vax9'].value_counts()"
   ]
  },
  {
   "cell_type": "code",
   "execution_count": 22,
   "metadata": {},
   "outputs": [
    {
     "data": {
      "text/plain": [
       "count    554.000000\n",
       "mean       2.411552\n",
       "std        1.078872\n",
       "min        1.000000\n",
       "25%        1.444444\n",
       "50%        2.000000\n",
       "75%        3.333333\n",
       "max        5.000000\n",
       "Name: VHscale, dtype: float64"
      ]
     },
     "execution_count": 22,
     "metadata": {},
     "output_type": "execute_result"
    }
   ],
   "source": [
    "df['VHscale'] = (df['vax1'] + df['vax2'] + df['vax3'] + df['vax4'] + df['vax5'] + df['vax6'] + df['vax7'] + df['vax8'] + df['vax9'])/9\n",
    "df['VHscale'].describe()"
   ]
  },
  {
   "cell_type": "code",
   "execution_count": 24,
   "metadata": {},
   "outputs": [
    {
     "data": {
      "text/plain": [
       "'The skewness is 0.4380186767214174 and the kurtosis is -1.0922149658621472.'"
      ]
     },
     "execution_count": 24,
     "metadata": {},
     "output_type": "execute_result"
    }
   ],
   "source": [
    "def assess_var(var):\n",
    "    skew = var.skew()\n",
    "    kurt = var.kurtosis()\n",
    "    return f'The skewness is {skew} and the kurtosis is {kurt}.'\n",
    "assess_var(df['VHscale'])"
   ]
  },
  {
   "cell_type": "code",
   "execution_count": 25,
   "metadata": {},
   "outputs": [
    {
     "data": {
      "image/png": "[encoded data removed]",
      "text/plain": [
       "<Figure size 800x500 with 1 Axes>"
      ]
     },
     "metadata": {},
     "output_type": "display_data"
    }
   ],
   "source": [
    "df['VHscale'].plot(kind='hist', bins = 50, figsize=(8, 5))\n",
    "\n",
    "# add a title to the histogram\n",
    "pyplot.title('Adapted VHS Frequencies')\n",
    "# add y-label\n",
    "pyplot.ylabel('Frequencies')\n",
    "# add x-label\n",
    "pyplot.xlabel('Vaccine Hesitancy')\n",
    "\n",
    "pyplot.show()"
   ]
  },
  {
   "cell_type": "markdown",
   "metadata": {},
   "source": []
  },
  {
   "cell_type": "code",
   "execution_count": 23,
   "metadata": {},
   "outputs": [
    {
     "data": {
      "text/plain": [
       "<AxesSubplot: >"
      ]
     },
     "execution_count": 23,
     "metadata": {},
     "output_type": "execute_result"
    },
    {
     "data": {
      "image/png": "[encoded data removed]",
      "text/plain": [
       "<Figure size 640x480 with 1 Axes>"
      ]
     },
     "metadata": {},
     "output_type": "display_data"
    }
   ],
   "source": [
    "sns.boxplot(data = df['VHscale'])"
   ]
  },
  {
   "cell_type": "code",
   "execution_count": null,
   "metadata": {},
   "outputs": [],
   "source": []
  }
 ],
 "metadata": {
  "kernelspec": {
   "display_name": "Python 3",
   "language": "python",
   "name": "python3"
  },
  "language_info": {
   "codemirror_mode": {
    "name": "ipython",
    "version": 3
   },
   "file_extension": ".py",
   "mimetype": "text/x-python",
   "name": "python",
   "nbconvert_exporter": "python",
   "pygments_lexer": "ipython3",
   "version": "3.11.0"
  },
  "orig_nbformat": 4,
  "vscode": {
   "interpreter": {
    "hash": "aefd69111f9c76c9ecd068af2a7d377a958ad2aaf2a9c23a14839e8171832a79"
   }
  }
 },
 "nbformat": 4,
 "nbformat_minor": 2
}
