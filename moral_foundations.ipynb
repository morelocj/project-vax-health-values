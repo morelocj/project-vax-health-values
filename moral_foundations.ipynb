{
 "cells": [
  {
   "cell_type": "code",
   "execution_count": 2,
   "metadata": {},
   "outputs": [],
   "source": [
    "import pandas as pd\n",
    "import numpy as np\n",
    "%matplotlib inline\n",
    "import matplotlib as plt\n",
    "from matplotlib import pyplot\n",
    "import pingouin as pg\n",
    "import seaborn as sns"
   ]
  },
  {
   "cell_type": "code",
   "execution_count": 3,
   "metadata": {},
   "outputs": [],
   "source": [
    "#df = pd.read_csv('vhv_11_15.csv')\n",
    "df = pd.read_csv('vhv_T4.csv')"
   ]
  },
  {
   "cell_type": "code",
   "execution_count": 4,
   "metadata": {},
   "outputs": [
    {
     "data": {
      "text/plain": [
       "count               571\n",
       "unique                6\n",
       "top       very relevant\n",
       "freq                190\n",
       "Name: emotionally, dtype: object"
      ]
     },
     "execution_count": 4,
     "metadata": {},
     "output_type": "execute_result"
    }
   ],
   "source": [
    "df['emotionally'].describe()"
   ]
  },
  {
   "cell_type": "code",
   "execution_count": 5,
   "metadata": {},
   "outputs": [
    {
     "data": {
      "text/plain": [
       "very relevant          190\n",
       "somewhat relevant      140\n",
       "extremely relevant      84\n",
       "sightly relevant        73\n",
       "not very relevant       45\n",
       "not at all relevant     39\n",
       "Name: emotionally, dtype: int64"
      ]
     },
     "execution_count": 5,
     "metadata": {},
     "output_type": "execute_result"
    }
   ],
   "source": [
    "df['emotionally'].value_counts()"
   ]
  },
  {
   "cell_type": "code",
   "execution_count": 6,
   "metadata": {},
   "outputs": [
    {
     "data": {
      "text/plain": [
       "4.0    190\n",
       "3.0    140\n",
       "5.0     84\n",
       "2.0     73\n",
       "1.0     45\n",
       "0.0     39\n",
       "Name: emotionally, dtype: int64"
      ]
     },
     "execution_count": 6,
     "metadata": {},
     "output_type": "execute_result"
    }
   ],
   "source": [
    "df['emotionally'].replace(['not at all relevant','not very relevant','sightly relevant','somewhat relevant','very relevant','extremely relevant'],[0,1,2,3,4,5], inplace=True)\n",
    "df['emotionally'].value_counts()"
   ]
  },
  {
   "cell_type": "code",
   "execution_count": 7,
   "metadata": {},
   "outputs": [
    {
     "data": {
      "text/plain": [
       "'The skewness is -0.6936066239369565 and the kurtosis is -0.2790386333987174.'"
      ]
     },
     "execution_count": 7,
     "metadata": {},
     "output_type": "execute_result"
    }
   ],
   "source": [
    "def assess_var(var):\n",
    "    skew = var.skew()\n",
    "    kurt = var.kurtosis()\n",
    "    return f'The skewness is {skew} and the kurtosis is {kurt}.'\n",
    "assess_var(df['emotionally'])\n",
    "# only relevant for continuous variables"
   ]
  },
  {
   "cell_type": "code",
   "execution_count": 8,
   "metadata": {},
   "outputs": [
    {
     "data": {
      "image/png": "[encoded data removed]",
      "text/plain": [
       "<Figure size 1000x600 with 1 Axes>"
      ]
     },
     "metadata": {},
     "output_type": "display_data"
    }
   ],
   "source": [
    "df['emotionally'].value_counts().plot(kind='bar', figsize=(10, 6))\n",
    "\n",
    "pyplot.xlabel('emotionally rating') # add to x-label to the plot\n",
    "pyplot.ylabel('counts') # add y-label to the plot\n",
    "pyplot.title('Moral Foundations: emotionally') # add title to the plot\n",
    "\n",
    "pyplot.show()"
   ]
  },
  {
   "cell_type": "code",
   "execution_count": 9,
   "metadata": {},
   "outputs": [
    {
     "data": {
      "text/plain": [
       "False    571\n",
       "True       4\n",
       "Name: emotionally, dtype: int64"
      ]
     },
     "execution_count": 9,
     "metadata": {},
     "output_type": "execute_result"
    }
   ],
   "source": [
    "df['emotionally'].isnull().value_counts()"
   ]
  },
  {
   "cell_type": "code",
   "execution_count": 11,
   "metadata": {},
   "outputs": [
    {
     "data": {
      "text/plain": [
       "4.0    183\n",
       "5.0    137\n",
       "3.0    112\n",
       "2.0     71\n",
       "1.0     38\n",
       "0.0     32\n",
       "Name: weak, dtype: int64"
      ]
     },
     "execution_count": 11,
     "metadata": {},
     "output_type": "execute_result"
    }
   ],
   "source": [
    "df['weak'].replace(['not at all relevant','not very relevant','sightly relevant','somewhat relevant','very relevant','extremely relevant'],[0,1,2,3,4,5], inplace=True)\n",
    "df['weak'].value_counts()"
   ]
  },
  {
   "cell_type": "code",
   "execution_count": 12,
   "metadata": {},
   "outputs": [],
   "source": [
    "#harm\n",
    "    #emotionally\n",
    "    #weak\n",
    "#df['cruel'].value_counts()\n",
    "df['cruel'].replace(['not at all relevant','not very relevant','sightly relevant','somewhat relevant','very relevant','extremely relevant'],[0,1,2,3,4,5], inplace=True)\n",
    "df['animal'].value_counts()\n",
    "df['animal'].replace(['strongly disagree','moderately disagree','slightly disagree','slightly agree','moderately agree','strongly agree'],[0,1,2,3,4,5], inplace=True)\n",
    "# df['kill'].replace(['not at all relevant','not very relevant','sightly relevant','somewhat relevant','very relevant','extremely relevant'],[0,1,2,3,4,5], inplace=True)\n",
    "df['kill'].replace(['strongly disagree','moderately disagree','slightly disagree','slightly agree','moderately agree','strongly agree'],[0,1,2,3,4,5], inplace=True)\n",
    "# df['compassion'].replace(['not at all relevant','not very relevant','sightly relevant','somewhat relevant','very relevant','extremely relevant'],[0,1,2,3,4,5], inplace=True)\n",
    "df['compassion'].replace(['strongly disagree','moderately disagree','slightly disagree','slightly agree','moderately agree','strongly agree'],[0,1,2,3,4,5], inplace=True)\n",
    "\n",
    "# #fairness\n",
    "df['rights'].replace(['not at all relevant','not very relevant','sightly relevant','somewhat relevant','very relevant','extremely relevant'],[0,1,2,3,4,5], inplace=True)\n",
    "df['unfairly'].replace(['not at all relevant','not very relevant','sightly relevant','somewhat relevant','very relevant','extremely relevant'],[0,1,2,3,4,5], inplace=True)\n",
    "df['treated'].replace(['not at all relevant','not very relevant','sightly relevant','somewhat relevant','very relevant','extremely relevant'],[0,1,2,3,4,5], inplace=True)\n",
    "# df['justice'].replace(['not at all relevant','not very relevant','sightly relevant','somewhat relevant','very relevant','extremely relevant'],[0,1,2,3,4,5], inplace=True)\n",
    "df['justice'].replace(['strongly disagree','moderately disagree','slightly disagree','slightly agree','moderately agree','strongly agree'],[0,1,2,3,4,5], inplace=True)\n",
    "df['fairly'].replace(['strongly disagree','moderately disagree','slightly disagree','slightly agree','moderately agree','strongly agree'],[0,1,2,3,4,5], inplace=True)\n",
    "df['rich'].replace(['strongly disagree','moderately disagree','slightly disagree','slightly agree','moderately agree','strongly agree'],[0,1,2,3,4,5], inplace=True)\n",
    "\n",
    "# df['fairly'].replace(['not at all relevant','not very relevant','sightly relevant','somewhat relevant','very relevant','extremely relevant'],[0,1,2,3,4,5], inplace=True)\n",
    "# df['rich'].replace(['not at all relevant','not very relevant','sightly relevant','somewhat relevant','very relevant','extremely relevant'],[0,1,2,3,4,5], inplace=True)\n"
   ]
  },
  {
   "cell_type": "code",
   "execution_count": 13,
   "metadata": {},
   "outputs": [
    {
     "data": {
      "text/plain": [
       "count    574.000000\n",
       "mean       1.930314\n",
       "std        1.807109\n",
       "min        0.000000\n",
       "25%        0.000000\n",
       "50%        2.000000\n",
       "75%        3.000000\n",
       "max        5.000000\n",
       "Name: rich, dtype: float64"
      ]
     },
     "execution_count": 13,
     "metadata": {},
     "output_type": "execute_result"
    }
   ],
   "source": [
    "df['rich'].describe()"
   ]
  },
  {
   "cell_type": "code",
   "execution_count": 14,
   "metadata": {},
   "outputs": [],
   "source": [
    "#ingroup\n",
    "df['loyalty'].replace(['not at all relevant','not very relevant','sightly relevant','somewhat relevant','very relevant','extremely relevant'],[0,1,2,3,4,5], inplace=True)\n",
    "df['betray'].replace(['not at all relevant','not very relevant','sightly relevant','somewhat relevant','very relevant','extremely relevant'],[0,1,2,3,4,5], inplace=True)\n",
    "df['lovecountry'].replace(['not at all relevant','not very relevant','sightly relevant','somewhat relevant','very relevant','extremely relevant'],[0,1,2,3,4,5], inplace=True)\n",
    "df['team'].replace(['strongly disagree','moderately disagree','slightly disagree','slightly agree','moderately agree','strongly agree'],[0,1,2,3,4,5], inplace=True)\n",
    "df['history'].replace(['strongly disagree','moderately disagree','slightly disagree','slightly agree','moderately agree','strongly agree'],[0,1,2,3,4,5], inplace=True)\n",
    "df['family'].replace(['strongly disagree','moderately disagree','slightly disagree','slightly agree','moderately agree','strongly agree'],[0,1,2,3,4,5], inplace=True)\n",
    "# df['team'].replace(['not at all relevant','not very relevant','sightly relevant','somewhat relevant','very relevant','extremely relevant'],[0,1,2,3,4,5], inplace=True)\n",
    "# df['history'].replace(['not at all relevant','not very relevant','sightly relevant','somewhat relevant','very relevant','extremely relevant'],[0,1,2,3,4,5], inplace=True)\n",
    "# df['family'].replace(['not at all relevant','not very relevant','sightly relevant','somewhat relevant','very relevant','extremely relevant'],[0,1,2,3,4,5], inplace=True)\n",
    "\n",
    "#authority\n",
    "df['traditions'].replace(['not at all relevant','not very relevant','sightly relevant','somewhat relevant','very relevant','extremely relevant'],[0,1,2,3,4,5], inplace=True)\n",
    "df['respect'].replace(['not at all relevant','not very relevant','sightly relevant','somewhat relevant','very relevant','extremely relevant'],[0,1,2,3,4,5], inplace=True)\n",
    "df['chaos'].replace(['not at all relevant','not very relevant','sightly relevant','somewhat relevant','very relevant','extremely relevant'],[0,1,2,3,4,5], inplace=True)\n",
    "df['sexroles'].replace(['strongly disagree','moderately disagree','slightly disagree','slightly agree','moderately agree','strongly agree'],[0,1,2,3,4,5], inplace=True)\n",
    "df['soldier'].replace(['strongly disagree','moderately disagree','slightly disagree','slightly agree','moderately agree','strongly agree'],[0,1,2,3,4,5], inplace=True)\n",
    "df['kidrespect'].replace(['strongly disagree','moderately disagree','slightly disagree','slightly agree','moderately agree','strongly agree'],[0,1,2,3,4,5], inplace=True)\n",
    "\n",
    "# df['sexroles'].replace(['not at all relevant','not very relevant','sightly relevant','somewhat relevant','very relevant','extremely relevant'],[0,1,2,3,4,5], inplace=True)\n",
    "# df['soldier'].replace(['not at all relevant','not very relevant','sightly relevant','somewhat relevant','very relevant','extremely relevant'],[0,1,2,3,4,5], inplace=True)\n",
    "# df['kidrespect'].replace(['not at all relevant','not very relevant','sightly relevant','somewhat relevant','very relevant','extremely relevant'],[0,1,2,3,4,5], inplace=True)\n"
   ]
  },
  {
   "cell_type": "code",
   "execution_count": 15,
   "metadata": {},
   "outputs": [],
   "source": [
    "#purity\n",
    "df['disgusting'].replace(['not at all relevant','not very relevant','sightly relevant','somewhat relevant','very relevant','extremely relevant'],[0,1,2,3,4,5], inplace=True)\n",
    "df['decency'].replace(['not at all relevant','not very relevant','sightly relevant','somewhat relevant','very relevant','extremely relevant'],[0,1,2,3,4,5], inplace=True)\n",
    "df['god'].replace(['not at all relevant','not very relevant','sightly relevant','somewhat relevant','very relevant','extremely relevant'],[0,1,2,3,4,5], inplace=True)\n",
    "df['harmlessdg'].replace(['strongly disagree','moderately disagree','slightly disagree','slightly agree','moderately agree','strongly agree'],[0,1,2,3,4,5], inplace=True)\n",
    "df['unnatural'].replace(['strongly disagree','moderately disagree','slightly disagree','slightly agree','moderately agree','strongly agree'],[0,1,2,3,4,5], inplace=True)\n",
    "df['chastity'].replace(['strongly disagree','moderately disagree','slightly disagree','slightly agree','moderately agree','strongly agree'],[0,1,2,3,4,5], inplace=True)\n",
    "\n",
    "# df['harmlessdg'].replace(['not at all relevant','not very relevant','sightly relevant','somewhat relevant','very relevant','extremely relevant'],[0,1,2,3,4,5], inplace=True)\n",
    "# df['unnatural'].replace(['not at all relevant','not very relevant','sightly relevant','somewhat relevant','very relevant','extremely relevant'],[0,1,2,3,4,5], inplace=True)\n",
    "# df['chastity'].replace(['not at all relevant','not very relevant','sightly relevant','somewhat relevant','very relevant','extremely relevant'],[0,1,2,3,4,5], inplace=True)"
   ]
  },
  {
   "cell_type": "code",
   "execution_count": 16,
   "metadata": {},
   "outputs": [
    {
     "data": {
      "text/plain": [
       "count    575.000000\n",
       "mean       1.812174\n",
       "std        1.810593\n",
       "min        0.000000\n",
       "25%        0.000000\n",
       "50%        1.000000\n",
       "75%        3.000000\n",
       "max        5.000000\n",
       "Name: chastity, dtype: float64"
      ]
     },
     "execution_count": 16,
     "metadata": {},
     "output_type": "execute_result"
    }
   ],
   "source": [
    "df['chastity'].describe()"
   ]
  },
  {
   "cell_type": "code",
   "execution_count": 17,
   "metadata": {},
   "outputs": [],
   "source": [
    "df['MFQ_HARM_AVGscale'] = (df['emotionally']+df['weak']+df['cruel']+df['animal']+df['kill']+df['compassion'])/6  \n",
    "df['MFQ_FAIRNESS_AVGscale'] = (df['rights']+df['unfairly']+df['treated']+df['justice']+df['fairly']+df['rich'])/6  \n",
    "df['MFQ_INGROUP_AVGscale'] = (df['loyalty']+df['betray']+df['lovecountry']+df['team']+df['history']+df['family'])/6  \n",
    "df['MFQ_AUTHORITY_AVGscale'] = (df['traditions']+df['respect']+df['chaos']+df['sexroles']+df['soldier']+df['kidrespect'])/6  \n",
    "df['MFQ_PURITY_AVGscale'] = (df['disgusting']+df['decency']+df['god']+df['harmlessdg']+df['unnatural']+df['chastity'])/6  \n",
    "df['MFQ_PROGRESSIVISMscale'] = (df['MFQ_HARM_AVGscale'] + df['MFQ_FAIRNESS_AVGscale'])/2 - (df['MFQ_INGROUP_AVGscale'] + df['MFQ_AUTHORITY_AVGscale'] + df['MFQ_PURITY_AVGscale'])/3\n",
    "\n"
   ]
  },
  {
   "cell_type": "code",
   "execution_count": 18,
   "metadata": {},
   "outputs": [
    {
     "data": {
      "text/plain": [
       "'The skewness is -0.8492478444625506 and the kurtosis is 0.5703386448988774.'"
      ]
     },
     "execution_count": 18,
     "metadata": {},
     "output_type": "execute_result"
    }
   ],
   "source": [
    "assess_var(df['MFQ_HARM_AVGscale'])"
   ]
  },
  {
   "cell_type": "code",
   "execution_count": 20,
   "metadata": {},
   "outputs": [
    {
     "data": {
      "text/plain": [
       "'The skewness is -0.7280941352546321 and the kurtosis is 0.5939716557535388.'"
      ]
     },
     "execution_count": 20,
     "metadata": {},
     "output_type": "execute_result"
    }
   ],
   "source": [
    "assess_var(df['MFQ_FAIRNESS_AVGscale'])"
   ]
  },
  {
   "cell_type": "code",
   "execution_count": 21,
   "metadata": {},
   "outputs": [
    {
     "data": {
      "text/plain": [
       "'The skewness is 0.13466004111022403 and the kurtosis is -0.6608647828839964.'"
      ]
     },
     "execution_count": 21,
     "metadata": {},
     "output_type": "execute_result"
    }
   ],
   "source": [
    "assess_var(df['MFQ_INGROUP_AVGscale'])"
   ]
  },
  {
   "cell_type": "code",
   "execution_count": 22,
   "metadata": {},
   "outputs": [
    {
     "data": {
      "text/plain": [
       "'The skewness is 0.07606769818120296 and the kurtosis is -0.4599235660731651.'"
      ]
     },
     "execution_count": 22,
     "metadata": {},
     "output_type": "execute_result"
    }
   ],
   "source": [
    "assess_var(df['MFQ_AUTHORITY_AVGscale'])"
   ]
  },
  {
   "cell_type": "code",
   "execution_count": 23,
   "metadata": {},
   "outputs": [
    {
     "data": {
      "text/plain": [
       "'The skewness is 0.04309014362881059 and the kurtosis is -0.8723692217383108.'"
      ]
     },
     "execution_count": 23,
     "metadata": {},
     "output_type": "execute_result"
    }
   ],
   "source": [
    "assess_var(df['MFQ_PROGRESSIVISMscale'])"
   ]
  },
  {
   "cell_type": "code",
   "execution_count": 24,
   "metadata": {},
   "outputs": [
    {
     "data": {
      "text/plain": [
       "strongly disagree             214\n",
       "disagree                      131\n",
       "neither agree nor disagree     62\n",
       "agree                          52\n",
       "strongly agree                 23\n",
       "Name: scitrust1_r, dtype: int64"
      ]
     },
     "execution_count": 24,
     "metadata": {},
     "output_type": "execute_result"
    }
   ],
   "source": [
    "df['scitrust1_r'].value_counts()"
   ]
  },
  {
   "cell_type": "code",
   "execution_count": 25,
   "metadata": {},
   "outputs": [
    {
     "data": {
      "text/plain": [
       "-2.0    214\n",
       "-1.0    131\n",
       " 0.0     62\n",
       " 1.0     52\n",
       " 2.0     23\n",
       "Name: scitrust1_r, dtype: int64"
      ]
     },
     "execution_count": 25,
     "metadata": {},
     "output_type": "execute_result"
    }
   ],
   "source": [
    "#no_trust\n",
    "df['scitrust1_r'].replace(['strongly disagree','disagree','neither agree nor disagree','agree','strongly agree'],[-2,-1,0,1,2], inplace=True)\n",
    "df['scitrust1_r'].value_counts()"
   ]
  },
  {
   "cell_type": "code",
   "execution_count": 26,
   "metadata": {},
   "outputs": [],
   "source": [
    "#no_trust continued\n",
    "df['scitrust1_r'].replace(['strongly disagree','disagree','neither agree nor disagree','agree','strongly agree'],[-2,-1,0,1,2], inplace=True)\n",
    "df['scitrust2_r'].replace(['strongly disagree','disagree','neither agree nor disagree','agree','strongly agree'],[-2,-1,0,1,2], inplace=True)\n",
    "df['scitrust3_r'].replace(['strongly disagree','disagree','neither agree nor disagree','agree','strongly agree'],[-2,-1,0,1,2], inplace=True)\n",
    "df['scitrust4_r'].replace(['strongly disagree','disagree','neither agree nor disagree','agree','strongly agree'],[-2,-1,0,1,2], inplace=True)\n",
    "df['scitrust6_r'].replace(['strongly disagree','disagree','neither agree nor disagree','agree','strongly agree'],[-2,-1,0,1,2], inplace=True)\n",
    "df['scitrust8_r'].replace(['strongly disagree','disagree','neither agree nor disagree','agree','strongly agree'],[-2,-1,0,1,2], inplace=True)\n",
    "df['scitrust13_r'].replace(['strongly disagree','disagree','neither agree nor disagree','agree','strongly agree'],[-2,-1,0,1,2], inplace=True)\n",
    "df['scitrust17_r'].replace(['strongly disagree','disagree','neither agree nor disagree','agree','strongly agree'],[-2,-1,0,1,2], inplace=True)\n",
    "df['scitrust18_r'].replace(['strongly disagree','disagree','neither agree nor disagree','agree','strongly agree'],[-2,-1,0,1,2], inplace=True)\n",
    "df['scitrust19_r'].replace(['strongly disagree','disagree','neither agree nor disagree','agree','strongly agree'],[-2,-1,0,1,2], inplace=True)\n",
    "df['scitrust20_r'].replace(['strongly disagree','disagree','neither agree nor disagree','agree','strongly agree'],[-2,-1,0,1,2], inplace=True)\n",
    "df['scitrust21_r'].replace(['strongly disagree','disagree','neither agree nor disagree','agree','strongly agree'],[-2,-1,0,1,2], inplace=True)\n",
    "\n",
    "#yes_trust\n",
    "df['scitrust5'].replace(['strongly disagree','disagree','neither agree nor disagree','agree','strongly agree'],[-2,-1,0,1,2], inplace=True)\n",
    "df['scitrust7'].replace(['strongly disagree','disagree','neither agree nor disagree','agree','strongly agree'],[-2,-1,0,1,2], inplace=True)\n",
    "df['scitrust9'].replace(['strongly disagree','disagree','neither agree nor disagree','agree','strongly agree'],[-2,-1,0,1,2], inplace=True)\n",
    "df['scitrust10'].replace(['strongly disagree','disagree','neither agree nor disagree','agree','strongly agree'],[-2,-1,0,1,2], inplace=True)\n",
    "df['scitrust11'].replace(['strongly disagree','disagree','neither agree nor disagree','agree','strongly agree'],[-2,-1,0,1,2], inplace=True)\n",
    "df['scitrust12'].replace(['strongly disagree','disagree','neither agree nor disagree','agree','strongly agree'],[-2,-1,0,1,2], inplace=True)\n",
    "df['scitrust14'].replace(['strongly disagree','disagree','neither agree nor disagree','agree','strongly agree'],[-2,-1,0,1,2], inplace=True)\n",
    "df['scitrust15'].replace(['strongly disagree','disagree','neither agree nor disagree','agree','strongly agree'],[-2,-1,0,1,2], inplace=True)\n",
    "df['scitrust16'].replace(['strongly disagree','disagree','neither agree nor disagree','agree','strongly agree'],[-2,-1,0,1,2], inplace=True)\n"
   ]
  },
  {
   "cell_type": "code",
   "execution_count": 27,
   "metadata": {},
   "outputs": [],
   "source": [
    "#Trust in Science and Scientists inventory:\n",
    "df['no_trust'] = (df['scitrust1_r'] + df['scitrust2_r'] + df['scitrust3_r'] + df['scitrust4_r']+ df['scitrust6_r'] + df['scitrust8_r'] + df['scitrust13_r'] + df['scitrust17_r'] + df['scitrust18_r'] + df['scitrust19_r'] + df['scitrust20_r'] + df['scitrust21_r'])\n",
    "df['yes_trust'] = (df['scitrust5'] + df['scitrust7'] + df['scitrust9'] + df['scitrust10'] + df['scitrust11']+ df['scitrust12'] + df['scitrust14'] + df['scitrust15'] + df['scitrust16'])\n",
    "df['trust-science'] = (-1*df['no_trust'] + df['yes_trust'])/21 "
   ]
  },
  {
   "cell_type": "code",
   "execution_count": 28,
   "metadata": {},
   "outputs": [
    {
     "data": {
      "text/plain": [
       "count    464.000000\n",
       "mean       0.595854\n",
       "std        0.892030\n",
       "min       -2.000000\n",
       "25%       -0.142857\n",
       "50%        0.761905\n",
       "75%        1.333333\n",
       "max        2.000000\n",
       "Name: trust-science, dtype: float64"
      ]
     },
     "execution_count": 28,
     "metadata": {},
     "output_type": "execute_result"
    }
   ],
   "source": [
    "df['trust-science'].describe()"
   ]
  },
  {
   "cell_type": "code",
   "execution_count": 29,
   "metadata": {},
   "outputs": [
    {
     "data": {
      "text/plain": [
       "'The skewness is -0.4696917717119098 and the kurtosis is -0.6705713226375782.'"
      ]
     },
     "execution_count": 29,
     "metadata": {},
     "output_type": "execute_result"
    }
   ],
   "source": [
    "assess_var(df['trust-science'])"
   ]
  }
 ],
 "metadata": {
  "kernelspec": {
   "display_name": "Python 3",
   "language": "python",
   "name": "python3"
  },
  "language_info": {
   "codemirror_mode": {
    "name": "ipython",
    "version": 3
   },
   "file_extension": ".py",
   "mimetype": "text/x-python",
   "name": "python",
   "nbconvert_exporter": "python",
   "pygments_lexer": "ipython3",
   "version": "3.10.9"
  },
  "orig_nbformat": 4,
  "vscode": {
   "interpreter": {
    "hash": "aefd69111f9c76c9ecd068af2a7d377a958ad2aaf2a9c23a14839e8171832a79"
   }
  }
 },
 "nbformat": 4,
 "nbformat_minor": 2
}
